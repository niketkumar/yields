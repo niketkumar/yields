{
 "metadata": {
  "name": "",
  "signature": "sha256:924b0e766fb7415975ae6f08642a93545172b8307498517252ce31eb30151e77"
 },
 "nbformat": 3,
 "nbformat_minor": 0,
 "worksheets": [
  {
   "cells": [
    {
     "cell_type": "code",
     "collapsed": false,
     "input": [
      "def consume():\n",
      "    cumulative_sum = 0\n",
      "    while True:\n",
      "        seq = yield\n",
      "        cumulative_sum += sum(seq)\n",
      "        print 'Consumed and Updated sum {}'.format(cumulative_sum)\n",
      "        \n",
      "def produce(consumer):\n",
      "    import random\n",
      "    def gen_seq():\n",
      "        return random.sample(range(10), 2)\n",
      "    while True:\n",
      "        seq = gen_seq()\n",
      "        print 'Produced seq: {}'.format(seq)\n",
      "        consumer.send(seq)\n",
      "        yield\n",
      "\n",
      "if __name__ == '__main__':\n",
      "    consumer = consume()\n",
      "#     consumer.send(None)\n",
      "    consumer.send(None)\n",
      "    producer = produce(consumer)\n",
      "    for _ in range(3):\n",
      "        next(producer)"
     ],
     "language": "python",
     "metadata": {},
     "outputs": [
      {
       "output_type": "stream",
       "stream": "stdout",
       "text": [
        "Produced seq: [5, 1]\n",
        "Consumed and Updated sum 6\n",
        "Produced seq: [2, 7]\n",
        "Consumed and Updated sum 15\n",
        "Produced seq: [6, 0]\n",
        "Consumed and Updated sum 21\n"
       ]
      }
     ],
     "prompt_number": 7
    },
    {
     "cell_type": "code",
     "collapsed": false,
     "input": [],
     "language": "python",
     "metadata": {},
     "outputs": []
    }
   ],
   "metadata": {}
  }
 ]
}